{
 "cells": [
  {
   "cell_type": "markdown",
   "metadata": {},
   "source": [
    "# `maildaemon` package"
   ]
  },
  {
   "cell_type": "code",
   "execution_count": null,
   "metadata": {},
   "outputs": [],
   "source": [
    "import maildaemon"
   ]
  },
  {
   "cell_type": "markdown",
   "metadata": {},
   "source": [
    "## reading configuration"
   ]
  },
  {
   "cell_type": "code",
   "execution_count": null,
   "metadata": {
    "collapsed": true
   },
   "outputs": [],
   "source": [
    "cfg = maildaemon.load_config()"
   ]
  },
  {
   "cell_type": "code",
   "execution_count": null,
   "metadata": {},
   "outputs": [],
   "source": [
    "connections = cfg['connections']"
   ]
  },
  {
   "cell_type": "markdown",
   "metadata": {},
   "source": [
    "## connecting, retrieving/sending messages"
   ]
  },
  {
   "cell_type": "code",
   "execution_count": null,
   "metadata": {
    "collapsed": true
   },
   "outputs": [],
   "source": [
    "from maildaemon.imap_daemon import IMAPDaemon\n",
    "from maildaemon.smtp_connection import SMTPConnection\n",
    "from maildaemon.pop_daemon import POPDaemon"
   ]
  },
  {
   "cell_type": "markdown",
   "metadata": {},
   "source": [
    "1and1"
   ]
  },
  {
   "cell_type": "code",
   "execution_count": null,
   "metadata": {
    "scrolled": true
   },
   "outputs": [],
   "source": [
    "one_and_one_imap = IMAPDaemon.from_dict(connections['1and1-imap'])"
   ]
  },
  {
   "cell_type": "code",
   "execution_count": null,
   "metadata": {
    "scrolled": false
   },
   "outputs": [],
   "source": [
    "one_and_one_imap.connect()"
   ]
  },
  {
   "cell_type": "code",
   "execution_count": null,
   "metadata": {},
   "outputs": [],
   "source": [
    "one_and_one_imap.retrieve_folders_with_flags()"
   ]
  },
  {
   "cell_type": "code",
   "execution_count": null,
   "metadata": {},
   "outputs": [],
   "source": [
    "one_and_one_imap.retrieve_messages([1, 2, 3])"
   ]
  },
  {
   "cell_type": "code",
   "execution_count": null,
   "metadata": {},
   "outputs": [],
   "source": [
    "one_and_one_imap.disconnect()"
   ]
  },
  {
   "cell_type": "code",
   "execution_count": null,
   "metadata": {
    "collapsed": true
   },
   "outputs": [],
   "source": [
    "one_and_one_smtp = SMTPConnection.from_dict(connections['1and1-smtp'])\n",
    "#one_and_one_pop = POPDaemon.from_dict(connections['1and1-pop'])\n",
    "one_and_one_smtp.connect()\n",
    "#one_and_one_pop.connect()"
   ]
  },
  {
   "cell_type": "code",
   "execution_count": null,
   "metadata": {},
   "outputs": [],
   "source": [
    "one_and_one_smtp.disconnect()\n",
    "#one_and_one_pop.disconnect()"
   ]
  },
  {
   "cell_type": "markdown",
   "metadata": {},
   "source": [
    "Gmail"
   ]
  },
  {
   "cell_type": "code",
   "execution_count": null,
   "metadata": {},
   "outputs": [],
   "source": [
    "gmail_imap = IMAPDaemon.from_dict(connections['gmail-imap'])\n",
    "gmail_imap.connect()"
   ]
  },
  {
   "cell_type": "code",
   "execution_count": null,
   "metadata": {
    "scrolled": false
   },
   "outputs": [],
   "source": [
    "gmail_imap.retrieve_folders_with_flags()"
   ]
  },
  {
   "cell_type": "code",
   "execution_count": null,
   "metadata": {},
   "outputs": [],
   "source": [
    "gmail_imap.open_folder()"
   ]
  },
  {
   "cell_type": "code",
   "execution_count": null,
   "metadata": {},
   "outputs": [],
   "source": [
    "gmail_imap.open_folder('[Gmail]/Sent Mail')"
   ]
  },
  {
   "cell_type": "code",
   "execution_count": null,
   "metadata": {},
   "outputs": [],
   "source": [
    "gmail_imap.open_folder('[Gmail]/All Mail')"
   ]
  },
  {
   "cell_type": "code",
   "execution_count": null,
   "metadata": {},
   "outputs": [],
   "source": [
    "gmail_imap.retrieve_message_ids()"
   ]
  },
  {
   "cell_type": "code",
   "execution_count": null,
   "metadata": {},
   "outputs": [],
   "source": [
    "gmail_imap.retrieve_message_parts(1, ['UID', 'FLAGS'])"
   ]
  },
  {
   "cell_type": "code",
   "execution_count": null,
   "metadata": {},
   "outputs": [],
   "source": [
    "gmail_imap.retrieve_messages_parts(range(1,100), ['ENVELOPE'], '[Gmail]/All Mail')"
   ]
  },
  {
   "cell_type": "code",
   "execution_count": null,
   "metadata": {},
   "outputs": [],
   "source": [
    "gmail_imap.retrieve_messages_parts(range(1,100), ['ENVELOPE'])"
   ]
  },
  {
   "cell_type": "code",
   "execution_count": null,
   "metadata": {},
   "outputs": [],
   "source": [
    "message_parts = gmail_imap.retrieve_message_parts(10, ['ENVELOPE'])\n",
    "message_parts"
   ]
  },
  {
   "cell_type": "code",
   "execution_count": null,
   "metadata": {},
   "outputs": [],
   "source": [
    "gmail_imap.move_messages([10], '[Gmail]/Important')"
   ]
  },
  {
   "cell_type": "code",
   "execution_count": null,
   "metadata": {
    "collapsed": true
   },
   "outputs": [],
   "source": [
    "def enable(self):\n",
    "    self._link.enable('MOVE')"
   ]
  },
  {
   "cell_type": "code",
   "execution_count": null,
   "metadata": {},
   "outputs": [],
   "source": [
    "enable(gmail_imap)"
   ]
  },
  {
   "cell_type": "code",
   "execution_count": null,
   "metadata": {},
   "outputs": [],
   "source": [
    "message = gmail_imap.retrieve_message(1)\n",
    "message"
   ]
  },
  {
   "cell_type": "code",
   "execution_count": null,
   "metadata": {},
   "outputs": [],
   "source": [
    "gmail_imap.disconnect()"
   ]
  },
  {
   "cell_type": "code",
   "execution_count": null,
   "metadata": {
    "collapsed": true
   },
   "outputs": [],
   "source": [
    "gmail_smtp = SMTPConnection.from_dict(connections['gmail-smtp'])\n",
    "gmail_smtp.connect()"
   ]
  },
  {
   "cell_type": "code",
   "execution_count": null,
   "metadata": {
    "scrolled": true
   },
   "outputs": [],
   "source": [
    "gmail_smtp.disconnect()"
   ]
  },
  {
   "cell_type": "markdown",
   "metadata": {},
   "source": [
    "iTSCOM"
   ]
  },
  {
   "cell_type": "code",
   "execution_count": null,
   "metadata": {},
   "outputs": [],
   "source": [
    "#itscom_smtp = SMTPConnection.from_dict(connections['itscom-smtp'])\n",
    "itscom_pop = POPDaemon.from_dict(connections['itscom-pop'])"
   ]
  },
  {
   "cell_type": "code",
   "execution_count": null,
   "metadata": {
    "collapsed": true
   },
   "outputs": [],
   "source": [
    "itscom_pop.connect()"
   ]
  },
  {
   "cell_type": "code",
   "execution_count": null,
   "metadata": {
    "collapsed": true
   },
   "outputs": [],
   "source": [
    "itscom_pop.retrieve_message_ids()"
   ]
  },
  {
   "cell_type": "code",
   "execution_count": null,
   "metadata": {
    "collapsed": true
   },
   "outputs": [],
   "source": [
    "itscom_pop.disconnect()"
   ]
  },
  {
   "cell_type": "markdown",
   "metadata": {},
   "source": [
    "## WIP: special handling of Gmail"
   ]
  },
  {
   "cell_type": "raw",
   "metadata": {},
   "source": [
    "from maildaemon.gmail_imap_daemon import GmailIMAPDaemon"
   ]
  },
  {
   "cell_type": "raw",
   "metadata": {
    "collapsed": true
   },
   "source": [
    "class GmailIMAPDaemon(IMAPDaemon):\n",
    "    pass"
   ]
  },
  {
   "cell_type": "raw",
   "metadata": {
    "collapsed": true
   },
   "source": [
    "gmail_imap = GmailIMAPDaemon.from_dict(connections['gmail-imap'])"
   ]
  },
  {
   "cell_type": "raw",
   "metadata": {
    "collapsed": true
   },
   "source": [
    "gmail_imap.connect()"
   ]
  },
  {
   "cell_type": "raw",
   "metadata": {},
   "source": [
    "gmail_imap.update()"
   ]
  },
  {
   "cell_type": "raw",
   "metadata": {},
   "source": [
    "gmail_imap.disconnect()"
   ]
  },
  {
   "cell_type": "markdown",
   "metadata": {},
   "source": [
    "## WIP: running daemon to maintain connections automatically"
   ]
  },
  {
   "cell_type": "raw",
   "metadata": {},
   "source": [
    "from maildaemon.daemon import Daemon"
   ]
  },
  {
   "cell_type": "raw",
   "metadata": {
    "collapsed": true
   },
   "source": [
    "d = Daemon()\n",
    "d.add_server(one_and_one_imap)\n",
    "d.add_server(gmail_imap)\n",
    "d.add_server(itscom_pop)"
   ]
  },
  {
   "cell_type": "raw",
   "metadata": {},
   "source": [
    "d.run()"
   ]
  },
  {
   "cell_type": "markdown",
   "metadata": {},
   "source": [
    "## WIP: filtering messages"
   ]
  },
  {
   "cell_type": "raw",
   "metadata": {},
   "source": [
    "from maildaemon.message_filter import MessageFilter"
   ]
  },
  {
   "cell_type": "raw",
   "metadata": {},
   "source": [
    "import typing as t\n",
    "\n",
    "class MessageFilter:\n",
    "\n",
    "    def __init__(self, for_server: t.Optional[Server]=None, for_folder: t.Optional[str]=None, **masks):\n",
    "\n",
    "        self._for_server = for_server\n",
    "        self._for_folder = for_folder\n",
    "        self._masks = masks\n",
    "\n",
    "    def match(self, message: Message) -> bool:\n",
    "\n",
    "        return False"
   ]
  },
  {
   "cell_type": "markdown",
   "metadata": {},
   "source": [
    "# `email`, `email.message` and `email.parser` packages"
   ]
  },
  {
   "cell_type": "markdown",
   "metadata": {},
   "source": [
    "https://docs.python.org/3/library/email.html\n",
    "\n",
    "https://docs.python.org/3/library/email.message.html\n",
    "\n",
    "https://docs.python.org/3/library/email.parser.html"
   ]
  },
  {
   "cell_type": "code",
   "execution_count": null,
   "metadata": {
    "collapsed": true
   },
   "outputs": [],
   "source": [
    "import email"
   ]
  },
  {
   "cell_type": "code",
   "execution_count": null,
   "metadata": {},
   "outputs": [],
   "source": [
    "envelope, body = message_parts\n",
    "email_message = email.message_from_bytes(body) # type: email.message.Message\n",
    "print(email_message.as_string())\n",
    "email_message"
   ]
  },
  {
   "cell_type": "code",
   "execution_count": null,
   "metadata": {},
   "outputs": [],
   "source": [
    "email_message.defects"
   ]
  },
  {
   "cell_type": "code",
   "execution_count": null,
   "metadata": {},
   "outputs": [],
   "source": [
    "parser = email.parser.BytesParser()\n",
    "msg = parser.parsebytes(body, headersonly=False)\n",
    "print(msg.as_string())\n",
    "msg.items() == email_message.items()"
   ]
  }
 ],
 "metadata": {
  "kernelspec": {
   "display_name": "Python 3",
   "language": "python",
   "name": "python3"
  },
  "language_info": {
   "codemirror_mode": {
    "name": "ipython",
    "version": 3
   },
   "file_extension": ".py",
   "mimetype": "text/x-python",
   "name": "python",
   "nbconvert_exporter": "python",
   "pygments_lexer": "ipython3",
   "version": "3.6.0"
  }
 },
 "nbformat": 4,
 "nbformat_minor": 1
}
