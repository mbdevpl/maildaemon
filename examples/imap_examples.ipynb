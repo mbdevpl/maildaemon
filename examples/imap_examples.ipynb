{
 "cells": [
  {
   "cell_type": "markdown",
   "metadata": {
    "collapsed": true
   },
   "source": [
    "# IMAP"
   ]
  },
  {
   "cell_type": "markdown",
   "metadata": {},
   "source": [
    "RFC: http://tools.ietf.org/html/rfc3501\n",
    "\n",
    "examples:\n",
    "\n",
    "- https://gist.github.com/robulouski/7441883\n",
    "- https://yuji.wordpress.com/2011/06/22/python-imaplib-imap-example-with-gmail/\n",
    "- http://stackoverflow.com/questions/6282976/download-parse-email-with-python\n",
    "- https://github.com/jarus/imap_copy/blob/master/imapcopy.py"
   ]
  },
  {
   "cell_type": "markdown",
   "metadata": {},
   "source": [
    "https://docs.python.org/3/library/imaplib.html"
   ]
  },
  {
   "cell_type": "code",
   "execution_count": null,
   "metadata": {
    "collapsed": true
   },
   "outputs": [],
   "source": [
    "import email\n",
    "import getpass\n",
    "import imaplib"
   ]
  },
  {
   "cell_type": "code",
   "execution_count": null,
   "metadata": {},
   "outputs": [],
   "source": [
    "domain = input()\n",
    "ssl = True\n",
    "port = 993\n",
    "login = input()\n",
    "password = getpass.getpass()"
   ]
  },
  {
   "cell_type": "code",
   "execution_count": null,
   "metadata": {},
   "outputs": [],
   "source": [
    "if ssl:\n",
    "    imap = imaplib.IMAP4_SSL(domain, port)\n",
    "else:\n",
    "    imap = imaplib.IMAP4(domain, port)\n",
    "status, response = imap.login(login, password)\n",
    "print(status)\n",
    "[r.decode() for r in response]"
   ]
  },
  {
   "cell_type": "code",
   "execution_count": null,
   "metadata": {},
   "outputs": [],
   "source": [
    "status, namespace = imap.namespace()\n",
    "print(status)\n",
    "[n.decode() for n in namespace]"
   ]
  },
  {
   "cell_type": "code",
   "execution_count": null,
   "metadata": {},
   "outputs": [],
   "source": [
    "status, folders = imap.list()\n",
    "print(status)\n",
    "[f.decode() for f in folders]"
   ]
  },
  {
   "cell_type": "code",
   "execution_count": null,
   "metadata": {},
   "outputs": [],
   "source": [
    "status, response = imap.select() # nothing or str\n",
    "print(status)\n",
    "[r.decode() for r in response]"
   ]
  },
  {
   "cell_type": "code",
   "execution_count": null,
   "metadata": {},
   "outputs": [],
   "source": [
    "status, data = imap.search(None, 'ALL')\n",
    "print(status)\n",
    "message_ids = data[0].split()\n",
    "[r.decode() for r in message_ids]"
   ]
  },
  {
   "cell_type": "code",
   "execution_count": null,
   "metadata": {},
   "outputs": [],
   "source": [
    "status, data = imap.fetch('1,2,3', '(ENVELOPE)')\n",
    "print(status, len(data))\n",
    "print(type(data[0]) is bytes)\n",
    "print(type(data[0]) is tuple)"
   ]
  },
  {
   "cell_type": "code",
   "execution_count": null,
   "metadata": {},
   "outputs": [],
   "source": [
    "status, data = imap.fetch('1,2,3', '(RFC822)')\n",
    "print(status, len(data))\n",
    "print(type(data[0]) is bytes)\n",
    "print(type(data[0]) is tuple)"
   ]
  },
  {
   "cell_type": "code",
   "execution_count": null,
   "metadata": {},
   "outputs": [],
   "source": [
    "messages = []\n",
    "for message_id in message_ids:\n",
    "    status, data = imap.fetch(message_id, '(RFC822)')\n",
    "    print(status, data[0][0])\n",
    "    if status != 'OK':\n",
    "        raise RuntimeError('status was \"{}\"'.format(status))\n",
    "    message = email.message_from_bytes(data[0][1])\n",
    "    messages.append(message)\n",
    "len(messages)"
   ]
  },
  {
   "cell_type": "code",
   "execution_count": null,
   "metadata": {},
   "outputs": [],
   "source": [
    "status, response = imap.close()\n",
    "print(status)\n",
    "[r.decode() for r in response]"
   ]
  },
  {
   "cell_type": "code",
   "execution_count": null,
   "metadata": {},
   "outputs": [],
   "source": [
    "status, response = imap.logout()\n",
    "print(status)\n",
    "[r.decode() for r in response]"
   ]
  }
 ],
 "metadata": {
  "kernelspec": {
   "display_name": "Python 3",
   "language": "python",
   "name": "python3"
  },
  "language_info": {
   "codemirror_mode": {
    "name": "ipython",
    "version": 3
   },
   "file_extension": ".py",
   "mimetype": "text/x-python",
   "name": "python",
   "nbconvert_exporter": "python",
   "pygments_lexer": "ipython3",
   "version": "3.6.0"
  }
 },
 "nbformat": 4,
 "nbformat_minor": 1
}
